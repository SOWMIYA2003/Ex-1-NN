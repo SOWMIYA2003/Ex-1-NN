{
 "cells": [
  {
   "cell_type": "code",
   "execution_count": null,
   "metadata": {},
   "outputs": [],
   "source": [
    "#import libraries\n",
    "from google.colab import files\n",
    "import pandas as pd\n",
    "import io\n",
    "from sklearn.preprocessing import StandardScaler\n",
    "from sklearn.preprocessing import MinMaxScaler\n",
    "from sklearn.model_selection import train_test_split"
   ]
  },
  {
   "cell_type": "code",
   "execution_count": null,
   "metadata": {},
   "outputs": [],
   "source": [
    "#Read the dataset from drive\n",
    "df=pd.read_csv('data.csv')\n",
    "print(df)"
   ]
  },
  {
   "cell_type": "code",
   "execution_count": null,
   "metadata": {},
   "outputs": [],
   "source": [
    "# Finding Missing Values\n",
    "print(df.isnull().sum())\n"
   ]
  },
  {
   "cell_type": "code",
   "execution_count": null,
   "metadata": {},
   "outputs": [],
   "source": [
    "#Handling Missing values\n",
    "df.fillna(df.mean().round(1),inplace=True)\n",
    "print(df.isnull().sum())"
   ]
  },
  {
   "cell_type": "code",
   "execution_count": null,
   "metadata": {},
   "outputs": [],
   "source": [
    "#Check for Duplicates\n",
    "df.duplicated()"
   ]
  },
  {
   "cell_type": "code",
   "execution_count": null,
   "metadata": {},
   "outputs": [],
   "source": [
    "#Detect Outliers\n",
    "\n",
    "print(df['CustomerId'].describe())\n",
    "print(df['Surname'].describe())\n",
    "print(df['CreditScore'].describe())\n",
    "print(df['Geography'].describe())\n",
    "print(df['Gender'].describe())\n",
    "print(df['Age'].describe())\n",
    "print(df['Tenure'].describe())\n",
    "print(df['Balance'].describe())\n",
    "print(df['NumOfProducts'].describe())\n",
    "print(df['HasCrCard'].describe())\n",
    "print(df['IsActiveMember'].describe())\n",
    "print(df['EstimatedSalary'].describe())\n",
    "print(df['Exited'].describe())\n"
   ]
  },
  {
   "cell_type": "code",
   "execution_count": null,
   "metadata": {},
   "outputs": [],
   "source": [
    "#Normalize the dataset\n",
    "#Drop the non numerical columns\n",
    "data = df.drop(['Surname', 'Geography','Gender'], axis=1)"
   ]
  },
  {
   "cell_type": "code",
   "execution_count": null,
   "metadata": {},
   "outputs": [],
   "source": [
    "#split the dataset into input and output\n",
    "X=df.iloc[:,:-1].values\n",
    "print(X)\n",
    "\n",
    "y=df.iloc[:,-1].values\n",
    "print(y)"
   ]
  },
  {
   "cell_type": "code",
   "execution_count": null,
   "metadata": {},
   "outputs": [],
   "source": [
    "#splitting the data for training & Testing\n",
    "X_train ,X_test ,y_train,y_test=train_test_split(X,y,test_size=0.2)\n"
   ]
  },
  {
   "cell_type": "code",
   "execution_count": null,
   "metadata": {},
   "outputs": [],
   "source": [
    "#Print the training data and testing data\n",
    "\n",
    "print(\"X_train\\n\")\n",
    "print(X_train)\n",
    "print(\"\\nLenght of X_train \",len(X_train))\n",
    "print(\"\\nX_test\\n\")\n",
    "print(X_test)\n",
    "print(\"\\nLenght of X_test \",len(X_test))"
   ]
  }
 ],
 "metadata": {
  "kernelspec": {
   "display_name": "Python 3",
   "language": "python",
   "name": "python3"
  },
  "language_info": {
   "name": "python",
   "version": "3.10.6"
  }
 },
 "nbformat": 4,
 "nbformat_minor": 2
}
